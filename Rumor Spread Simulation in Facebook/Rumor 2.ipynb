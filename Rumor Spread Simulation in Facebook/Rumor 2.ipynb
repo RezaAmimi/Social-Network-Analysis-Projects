{
 "cells": [
  {
   "cell_type": "code",
   "execution_count": 1,
   "metadata": {},
   "outputs": [],
   "source": [
    "import matplotlib\n",
    "#from graph_tool.all import *\n",
    "import numpy as np\n",
    "import pickle\n",
    "import matplotlib.pyplot as plt\n",
    "from IPython.display import Image"
   ]
  },
  {
   "cell_type": "code",
   "execution_count": 2,
   "metadata": {},
   "outputs": [
    {
     "ename": "FileNotFoundError",
     "evalue": "[Errno 2] No such file or directory: 'datasets/twitter_combined.txt'",
     "output_type": "error",
     "traceback": [
      "\u001b[0;31m---------------------------------------------------------------------------\u001b[0m",
      "\u001b[0;31mFileNotFoundError\u001b[0m                         Traceback (most recent call last)",
      "\u001b[0;32m/var/folders/b6/89bshl6x2hlcn5s5dy96xq_r0000gn/T/ipykernel_6094/3257814395.py\u001b[0m in \u001b[0;36m<module>\u001b[0;34m\u001b[0m\n\u001b[1;32m      5\u001b[0m \u001b[0mDATASET_PATH\u001b[0m \u001b[0;34m=\u001b[0m \u001b[0;34m\"datasets/twitter_combined.txt\"\u001b[0m\u001b[0;34m;\u001b[0m \u001b[0mDIRECTED_EDGES\u001b[0m \u001b[0;34m=\u001b[0m \u001b[0;32mTrue\u001b[0m\u001b[0;34m\u001b[0m\u001b[0;34m\u001b[0m\u001b[0m\n\u001b[1;32m      6\u001b[0m \u001b[0;34m\u001b[0m\u001b[0m\n\u001b[0;32m----> 7\u001b[0;31m \u001b[0;32mwith\u001b[0m \u001b[0mopen\u001b[0m\u001b[0;34m(\u001b[0m\u001b[0mDATASET_PATH\u001b[0m\u001b[0;34m,\u001b[0m\u001b[0;34m\"r\"\u001b[0m\u001b[0;34m)\u001b[0m \u001b[0;32mas\u001b[0m \u001b[0mf\u001b[0m\u001b[0;34m:\u001b[0m\u001b[0;34m\u001b[0m\u001b[0;34m\u001b[0m\u001b[0m\n\u001b[0m\u001b[1;32m      8\u001b[0m     \u001b[0medges\u001b[0m \u001b[0;34m=\u001b[0m \u001b[0mnp\u001b[0m\u001b[0;34m.\u001b[0m\u001b[0mfromiter\u001b[0m\u001b[0;34m(\u001b[0m\u001b[0;34m(\u001b[0m\u001b[0mint\u001b[0m\u001b[0;34m(\u001b[0m\u001b[0mn\u001b[0m\u001b[0;34m)\u001b[0m \u001b[0;32mfor\u001b[0m \u001b[0mx\u001b[0m \u001b[0;32min\u001b[0m \u001b[0mf\u001b[0m\u001b[0;34m.\u001b[0m\u001b[0mreadlines\u001b[0m\u001b[0;34m(\u001b[0m\u001b[0;34m)\u001b[0m \u001b[0;32mfor\u001b[0m \u001b[0mn\u001b[0m \u001b[0;32min\u001b[0m \u001b[0mx\u001b[0m\u001b[0;34m.\u001b[0m\u001b[0msplit\u001b[0m\u001b[0;34m(\u001b[0m\u001b[0;34m)\u001b[0m\u001b[0;34m)\u001b[0m\u001b[0;34m,\u001b[0m \u001b[0mdtype\u001b[0m\u001b[0;34m=\u001b[0m\u001b[0;34m'int'\u001b[0m\u001b[0;34m)\u001b[0m\u001b[0;34m\u001b[0m\u001b[0;34m\u001b[0m\u001b[0m\n\u001b[1;32m      9\u001b[0m \u001b[0;34m\u001b[0m\u001b[0m\n",
      "\u001b[0;31mFileNotFoundError\u001b[0m: [Errno 2] No such file or directory: 'datasets/twitter_combined.txt'"
     ]
    }
   ],
   "source": [
    "# datasets/facebook_combined.txt is from https://snap.stanford.edu/data/ego-Facebook.html\n",
    "DATASET_PATH = \"datasets/facebook_combined.txt\"; DIRECTED_EDGES = False\n",
    "\n",
    "# datasets/twitter_combined.txt is from https://snap.stanford.edu/data/ego-Twitter.html\n",
    "DATASET_PATH = \"datasets/twitter_combined.txt\"; DIRECTED_EDGES = True\n",
    "\n",
    "with open(DATASET_PATH,\"r\") as f:\n",
    "    edges = np.fromiter((int(n) for x in f.readlines() for n in x.split()), dtype='int')\n",
    "    \n",
    "# remap vertices to their indices\n",
    "unique_vertices = np.unique(edges)\n",
    "num_vertices = len(unique_vertices)\n",
    "vertex_mapping = {vertex: i for i, vertex in enumerate(unique_vertices)}\n",
    "edges = np.fromiter((vertex_mapping[vertex] for vertex in edges), dtype='int')\n",
    "edges = edges.reshape((-1, 2))\n",
    "del unique_vertices\n",
    "del vertex_mapping\n",
    "\n",
    "# Build graph\n",
    "g = Graph(directed=DIRECTED_EDGES)  # NOTE: Twitter dataset is directed, Facebook dataset is undirected\n",
    "g.add_vertex(num_vertices)\n",
    "g.add_edge_list(edges)\n",
    "g.vp.colour = g.new_vertex_property(\"vector<double>\")\n",
    "g.vp.state = g.new_vertex_property(\"int16_t\")\n",
    "g.vp.is_new_believer = g.new_vertex_property(\"bool\")\n",
    "\n",
    "plt.figure(figsize=(15, 12))\n",
    "plt.hist(g.get_out_degrees(g.get_vertices()),bins=100)\n",
    "plt.xlabel('Degree')\n",
    "plt.ylabel('Frequency')\n",
    "plt.title('Degree Distribution')\n",
    "plt.savefig('sim_output/degree_distribution.png')\n",
    "plt.show()\n",
    "\n",
    "p = g.num_vertices()\n",
    "q = g.num_edges()\n",
    "density = q  /  (p * (p - 1) / 2)\n",
    "print('There are {0} vertices'.format(p))\n",
    "print('There are {0} edges'.format(q))\n",
    "print('Graph density is {0}'.format(density))"
   ]
  },
  {
   "cell_type": "code",
   "execution_count": 3,
   "metadata": {},
   "outputs": [
    {
     "ename": "NameError",
     "evalue": "name 'global_clustering' is not defined",
     "output_type": "error",
     "traceback": [
      "\u001b[0;31m---------------------------------------------------------------------------\u001b[0m",
      "\u001b[0;31mNameError\u001b[0m                                 Traceback (most recent call last)",
      "\u001b[0;32m/var/folders/b6/89bshl6x2hlcn5s5dy96xq_r0000gn/T/ipykernel_6094/515937837.py\u001b[0m in \u001b[0;36m<module>\u001b[0;34m\u001b[0m\n\u001b[0;32m----> 1\u001b[0;31m \u001b[0mclustering_coefficient\u001b[0m\u001b[0;34m,\u001b[0m \u001b[0mclustering_coefficient_stddev\u001b[0m \u001b[0;34m=\u001b[0m \u001b[0mglobal_clustering\u001b[0m\u001b[0;34m(\u001b[0m\u001b[0mg\u001b[0m\u001b[0;34m)\u001b[0m\u001b[0;34m\u001b[0m\u001b[0;34m\u001b[0m\u001b[0m\n\u001b[0m\u001b[1;32m      2\u001b[0m \u001b[0mprint\u001b[0m\u001b[0;34m(\u001b[0m\u001b[0;34mf\"Global clustering coefficient: {clustering_coefficient} (stddev: {clustering_coefficient_stddev})\"\u001b[0m\u001b[0;34m)\u001b[0m\u001b[0;34m\u001b[0m\u001b[0;34m\u001b[0m\u001b[0m\n",
      "\u001b[0;31mNameError\u001b[0m: name 'global_clustering' is not defined"
     ]
    }
   ],
   "source": [
    "clustering_coefficient, clustering_coefficient_stddev = global_clustering(g)\n",
    "print(f\"Global clustering coefficient: {clustering_coefficient} (stddev: {clustering_coefficient_stddev})\")"
   ]
  },
  {
   "cell_type": "code",
   "execution_count": 4,
   "metadata": {},
   "outputs": [
    {
     "ename": "NameError",
     "evalue": "name 'graph_tool' is not defined",
     "output_type": "error",
     "traceback": [
      "\u001b[0;31m---------------------------------------------------------------------------\u001b[0m",
      "\u001b[0;31mNameError\u001b[0m                                 Traceback (most recent call last)",
      "\u001b[0;32m/var/folders/b6/89bshl6x2hlcn5s5dy96xq_r0000gn/T/ipykernel_6094/2308138760.py\u001b[0m in \u001b[0;36m<module>\u001b[0;34m\u001b[0m\n\u001b[0;32m----> 1\u001b[0;31m \u001b[0mpos\u001b[0m \u001b[0;34m=\u001b[0m \u001b[0mgraph_tool\u001b[0m\u001b[0;34m.\u001b[0m\u001b[0mdraw\u001b[0m\u001b[0;34m.\u001b[0m\u001b[0msfdp_layout\u001b[0m\u001b[0;34m(\u001b[0m\u001b[0mg\u001b[0m\u001b[0;34m)\u001b[0m\u001b[0;34m\u001b[0m\u001b[0;34m\u001b[0m\u001b[0m\n\u001b[0m",
      "\u001b[0;31mNameError\u001b[0m: name 'graph_tool' is not defined"
     ]
    }
   ],
   "source": [
    "pos = graph_tool.draw.sfdp_layout(g)"
   ]
  },
  {
   "cell_type": "code",
   "execution_count": 5,
   "metadata": {},
   "outputs": [
    {
     "ename": "NameError",
     "evalue": "name 'closeness' is not defined",
     "output_type": "error",
     "traceback": [
      "\u001b[0;31m---------------------------------------------------------------------------\u001b[0m",
      "\u001b[0;31mNameError\u001b[0m                                 Traceback (most recent call last)",
      "\u001b[0;32m/var/folders/b6/89bshl6x2hlcn5s5dy96xq_r0000gn/T/ipykernel_6094/469567719.py\u001b[0m in \u001b[0;36m<module>\u001b[0;34m\u001b[0m\n\u001b[0;32m----> 1\u001b[0;31m \u001b[0mc\u001b[0m \u001b[0;34m=\u001b[0m \u001b[0mcloseness\u001b[0m\u001b[0;34m(\u001b[0m\u001b[0mg\u001b[0m\u001b[0;34m)\u001b[0m\u001b[0;34m\u001b[0m\u001b[0;34m\u001b[0m\u001b[0m\n\u001b[0m\u001b[1;32m      2\u001b[0m graph_draw(\n\u001b[1;32m      3\u001b[0m     \u001b[0mg\u001b[0m\u001b[0;34m,\u001b[0m\u001b[0;34m\u001b[0m\u001b[0;34m\u001b[0m\u001b[0m\n\u001b[1;32m      4\u001b[0m     \u001b[0mpos\u001b[0m\u001b[0;34m=\u001b[0m\u001b[0mpos\u001b[0m\u001b[0;34m,\u001b[0m\u001b[0;34m\u001b[0m\u001b[0;34m\u001b[0m\u001b[0m\n\u001b[1;32m      5\u001b[0m     \u001b[0mvertex_fill_color\u001b[0m\u001b[0;34m=\u001b[0m\u001b[0mc\u001b[0m\u001b[0;34m,\u001b[0m\u001b[0;34m\u001b[0m\u001b[0;34m\u001b[0m\u001b[0m\n",
      "\u001b[0;31mNameError\u001b[0m: name 'closeness' is not defined"
     ]
    }
   ],
   "source": [
    "c = closeness(g)\n",
    "graph_draw(\n",
    "    g, \n",
    "    pos=pos,\n",
    "    vertex_fill_color=c,\n",
    "    vertex_size=prop_to_size(c, mi=1, ma=4),\n",
    "    vcmap=matplotlib.cm.gist_heat,\n",
    "    edge_pen_width=0.3,\n",
    "    vorder=c, \n",
    "    output_size=(5000, 5000),\n",
    "    bg_color=[1,1,1,0.8],\n",
    "    output=\"sim_output/SNAP_closeness.png\"\n",
    ")\n",
    "Image(filename=\"sim_output/SNAP_closeness.png\")"
   ]
  },
  {
   "cell_type": "code",
   "execution_count": 6,
   "metadata": {},
   "outputs": [
    {
     "ename": "NameError",
     "evalue": "name 'minimize_blockmodel_dl' is not defined",
     "output_type": "error",
     "traceback": [
      "\u001b[0;31m---------------------------------------------------------------------------\u001b[0m",
      "\u001b[0;31mNameError\u001b[0m                                 Traceback (most recent call last)",
      "\u001b[0;32m/var/folders/b6/89bshl6x2hlcn5s5dy96xq_r0000gn/T/ipykernel_6094/3906945242.py\u001b[0m in \u001b[0;36m<module>\u001b[0;34m\u001b[0m\n\u001b[0;32m----> 1\u001b[0;31m \u001b[0mstate\u001b[0m \u001b[0;34m=\u001b[0m \u001b[0mminimize_blockmodel_dl\u001b[0m\u001b[0;34m(\u001b[0m\u001b[0mg\u001b[0m\u001b[0;34m)\u001b[0m\u001b[0;34m\u001b[0m\u001b[0;34m\u001b[0m\u001b[0m\n\u001b[0m\u001b[1;32m      2\u001b[0m \u001b[0mstate\u001b[0m\u001b[0;34m.\u001b[0m\u001b[0mdraw\u001b[0m\u001b[0;34m(\u001b[0m\u001b[0mpos\u001b[0m\u001b[0;34m=\u001b[0m\u001b[0mpos\u001b[0m\u001b[0;34m,\u001b[0m \u001b[0mbg_color\u001b[0m\u001b[0;34m=\u001b[0m\u001b[0;34m[\u001b[0m\u001b[0;36m0\u001b[0m\u001b[0;34m,\u001b[0m\u001b[0;36m0\u001b[0m\u001b[0;34m,\u001b[0m\u001b[0;36m0\u001b[0m\u001b[0;34m,\u001b[0m\u001b[0;36m1\u001b[0m\u001b[0;34m]\u001b[0m\u001b[0;34m,\u001b[0m \u001b[0moutput_size\u001b[0m\u001b[0;34m=\u001b[0m\u001b[0;34m(\u001b[0m\u001b[0;36m5000\u001b[0m\u001b[0;34m,\u001b[0m \u001b[0;36m5000\u001b[0m\u001b[0;34m)\u001b[0m\u001b[0;34m,\u001b[0m \u001b[0moutput\u001b[0m\u001b[0;34m=\u001b[0m\u001b[0;34m\"sim_output/SNAP_blockmodel.png\"\u001b[0m\u001b[0;34m,\u001b[0m\u001b[0;34m)\u001b[0m\u001b[0;34m\u001b[0m\u001b[0;34m\u001b[0m\u001b[0m\n\u001b[1;32m      3\u001b[0m \u001b[0mImage\u001b[0m\u001b[0;34m(\u001b[0m\u001b[0mfilename\u001b[0m\u001b[0;34m=\u001b[0m\u001b[0;34m\"sim_output/SNAP_blockmodel.png\"\u001b[0m\u001b[0;34m)\u001b[0m\u001b[0;34m\u001b[0m\u001b[0;34m\u001b[0m\u001b[0m\n",
      "\u001b[0;31mNameError\u001b[0m: name 'minimize_blockmodel_dl' is not defined"
     ]
    }
   ],
   "source": [
    "state = minimize_blockmodel_dl(g)\n",
    "state.draw(pos=pos, bg_color=[0,0,0,1], output_size=(5000, 5000), output=\"sim_output/SNAP_blockmodel.png\",)\n",
    "Image(filename=\"sim_output/SNAP_blockmodel.png\")"
   ]
  },
  {
   "cell_type": "markdown",
   "metadata": {},
   "source": [
    "## Monte Carlo Simulation"
   ]
  },
  {
   "cell_type": "code",
   "execution_count": 7,
   "metadata": {
    "scrolled": false
   },
   "outputs": [],
   "source": [
    "from datetime import datetime\n",
    "from collections import namedtuple\n",
    "from enum import Enum\n",
    "\n",
    "np.random.seed(420)\n",
    "\n",
    "class UserState(Enum):\n",
    "    IGNORANT = 0\n",
    "    SPREADER = 1\n",
    "    SUPERSPREADER = 2\n",
    "    STIFLER = 3\n",
    "\n",
    "BACKGROUND_COLOR = [1, 1, 1, 1]\n",
    "USER_STATE_COLORS = {\n",
    "    UserState.IGNORANT: [0.2, 0.8, 0.2, 0.4],\n",
    "    UserState.SPREADER: [1, 0, 0, 0.7],\n",
    "    UserState.SUPERSPREADER: [1, 0, 1, 1],\n",
    "    UserState.STIFLER: [0, 0, 1, 0.4],\n",
    "}\n",
    "NEW_BELIEVER_HALO_COLOR = [1, 0.8, 0, 0.9]\n",
    "EDGE_COLOR = [0, 0, 0, 0.05]\n",
    "\n",
    "IMAGE_SIZE = (2000, 2000)\n",
    "\n",
    "SimulationResult = namedtuple(\"SimulationResult\", [\"first_spreader_idx\", \"first_spreader_degree\", \"time_step\", \"rumor_size\"])\n",
    "\n",
    "def simulate_rumour_spread(graph, model_parameters):\n",
    "    time_step = 0\n",
    "    yield time_step, graph.vp.state.a, graph.vp.is_new_believer.a\n",
    "#     while True: # use this instead if \"stifler_forget_probability\" > 0 \n",
    "    while np.sum(graph.vp.state.a == UserState.SPREADER.value) > 0:\n",
    "        time_step += 1\n",
    "        graph.vp.is_new_believer.a = False\n",
    "\n",
    "        all_spreaders = np.transpose(((graph.vp.state.a == UserState.SPREADER.value) | (graph.vp.state.a == UserState.SUPERSPREADER.value)).nonzero()).flatten()\n",
    "        all_stiflers = np.transpose((graph.vp.state.a == UserState.STIFLER.value).nonzero()).flatten()\n",
    "        np.random.shuffle(all_spreaders)\n",
    "        np.random.shuffle(all_stiflers)\n",
    "        for spreader in all_spreaders: # visit every spreader, in random order\n",
    "            friends = graph.get_in_neighbours(spreader)\n",
    "            friends_state = graph.vp.state.a[friends]\n",
    "            ignorant_friends = friends[friends_state == UserState.IGNORANT.value]\n",
    "            spreader_friends = friends[(friends_state == UserState.SPREADER.value) | (friends_state == UserState.SUPERSPREADER.value)]\n",
    "            stifler_friends = friends[friends_state == UserState.STIFLER.value]\n",
    "\n",
    "            # when we share the rumour with ignorant friends, some believe it and become spreaders, and some do not and become stiflers\n",
    "            random_threshold = np.random.random(len(ignorant_friends))\n",
    "            new_believers = ignorant_friends[random_threshold < model_parameters['ignorant_believe_probability']]\n",
    "            new_disbelievers = ignorant_friends[random_threshold >= model_parameters['ignorant_believe_probability']]\n",
    "            graph.vp.state.a[new_believers] = UserState.SPREADER.value\n",
    "            graph.vp.state.a[new_disbelievers] = UserState.STIFLER.value\n",
    "            graph.vp.is_new_believer.a[new_believers] = True\n",
    "\n",
    "            if graph.vp.state.a[spreader] != UserState.SUPERSPREADER.value:  # bots never forget or disbelieve, they just spread rumour\n",
    "                # when we share the rumour with spreader friends, if any have a different take on the rumour, we start to doubt the rumour and become a stifler\n",
    "                # we assume each interaction is independent, so for N spreader friends this is P(X > 0) = 1 - P(X = 0) where X ~ Binomial(N, p), so 1 - (1 - p)^n\n",
    "                if len(spreader_friends) > 0 and np.random.random() < 1 - (1 - model_parameters['spreader_disagreement_probability']) ** len(spreader_friends):\n",
    "                    graph.vp.state.a[spreader] = UserState.STIFLER.value\n",
    "\n",
    "                # when we share the rumour with stifler friends, each one has a small chance of convincing us to doubt the rumour and become a stifler\n",
    "                # we assume each interaction is independent, so for N stifler friends this is P(X > 0) = 1 - P(X = 0) where X ~ Binomial(N, p), so 1 - (1 - p)^n\n",
    "                if len(stifler_friends) > 0 and np.random.random() < 1 - (1 - model_parameters['spreader_disillusionment_probability']) ** len(stifler_friends):\n",
    "                    graph.vp.state.a[spreader] = UserState.STIFLER.value\n",
    "\n",
    "                # there's a random chance that we'll just forget about or lose interest in the rumour\n",
    "                if np.random.random() < model_parameters['spreader_forget_probability']:\n",
    "                    graph.vp.state.a[spreader] = UserState.IGNORANT.value\n",
    "        for stifler in all_stiflers: # visit every stifler, in random order\n",
    "            # there's a random chance that we'll just forget about the rumour entirely\n",
    "            if np.random.random() < model_parameters['stifler_forget_probability']:\n",
    "                graph.vp.state.a[stifler] = UserState.IGNORANT.value\n",
    "        yield time_step, graph.vp.state.a, graph.vp.is_new_believer.a\n",
    "\n",
    "\n",
    "def run_simulations(graph, model_parameters, num_sims, draw=False, pos=None):\n",
    "    sims = []\n",
    "    if draw and pos is None:\n",
    "        pos = graph_tool.draw.sfdp_layout(graph)\n",
    "    for i in range(num_sims):\n",
    "        if i % 25 == 0:\n",
    "            print(f'{datetime.now()} RUNNING SIMULATION {i}')\n",
    "\n",
    "        # initially, no users in the network know about the rumour\n",
    "        graph.vp.state.a = UserState.IGNORANT.value\n",
    "\n",
    "        # introduce a single superspreader who introduces the rumour to the network\n",
    "        # this is essentially a bot that keeps pumping out the rumour nonstop\n",
    "        # superspreader = np.random.randint(0, graph.num_vertices())\n",
    "        # graph.vp.state.a[superspreader] = UserState.SUPERSPREADER.value\n",
    "        \n",
    "        # introduce the first spreader\n",
    "        firstspreader = np.random.randint(0, graph.num_vertices())\n",
    "        graph.vp.state.a[firstspreader] = UserState.SPREADER.value\n",
    "\n",
    "\n",
    "        heard_rumour_fraction = []\n",
    "        max_time_step = 0\n",
    "        for time_step, state, is_new_believer in simulate_rumour_spread(g, model_parameters):\n",
    "            heard_rumour_fraction.append(np.mean(state != UserState.IGNORANT.value))\n",
    "            max_time_step = time_step\n",
    "            if time_step > 200:\n",
    "                break\n",
    "\n",
    "            if draw:\n",
    "                deg = graph.degree_property_map(\"out\")\n",
    "                \n",
    "                print(f'{datetime.now()} DRAWING RESULT OF SIMULATION {i} AT TIME {time_step}')\n",
    "                for v in graph.vertices():\n",
    "                    graph.vp.colour[v] = USER_STATE_COLORS[UserState(graph.vp.state[v])]\n",
    "                graph_draw(\n",
    "                    graph, pos=pos,\n",
    "                    vertex_fill_color=graph.vp.colour, vertex_color=graph.vp.colour, vertex_size=prop_to_size(deg, mi=1, ma=40),\n",
    "                    output_size=IMAGE_SIZE, bg_color=BACKGROUND_COLOR,\n",
    "                    edge_pen_width=0.5, edge_color=EDGE_COLOR,\n",
    "                    vertex_halo=graph.vp.is_new_believer, vertex_halo_color=NEW_BELIEVER_HALO_COLOR,\n",
    "                    output=f'sim_output/sir_{i}_{time_step:03}.png'\n",
    "                )\n",
    "\n",
    "#         sims += [SimulationResult(superspreader, len(graph.get_in_neighbours(superspreader)), max_time_step, heard_rumour_fraction)]\n",
    "        sims += [SimulationResult(firstspreader, len(graph.get_in_neighbours(firstspreader)), max_time_step, heard_rumour_fraction)]\n",
    "    return sims\n",
    "\n",
    "\n",
    "model_parameters = {\n",
    "    # when someone hears the rumour for the first time, 20% of the time they will believe it\n",
    "    \"ignorant_believe_probability\": 0.2,\n",
    "\n",
    "    # when spreader interacts with another spreader, 5% of the time the other spreader will have a different take on the rumour and the original spreader will become disillusioned\n",
    "    \"spreader_disagreement_probability\": 0.05,\n",
    "\n",
    "    # when a spreader interacts with a stifler, 10% of the time the spreader will become disillusioned by the stifler\n",
    "    \"spreader_disillusionment_probability\": 0.1,\n",
    "\n",
    "    # at each timestep, a spreader has a 30% chance of forgetting or losing interest in the rumour\n",
    "    \"spreader_forget_probability\": 0.3,\n",
    "    \n",
    "    # at each timestep, a stifler has a 5% chance of forgetting the rumour entirely\n",
    "#     \"stifler_forget_probability\": 0.05,\n",
    "    \"stifler_forget_probability\": 0,\n",
    "}"
   ]
  },
  {
   "cell_type": "code",
   "execution_count": 8,
   "metadata": {},
   "outputs": [
    {
     "name": "stdout",
     "output_type": "stream",
     "text": [
      "2022-04-23 18:51:43.777682 START\n"
     ]
    },
    {
     "ename": "NameError",
     "evalue": "name 'g' is not defined",
     "output_type": "error",
     "traceback": [
      "\u001b[0;31m---------------------------------------------------------------------------\u001b[0m",
      "\u001b[0;31mNameError\u001b[0m                                 Traceback (most recent call last)",
      "\u001b[0;32m/var/folders/b6/89bshl6x2hlcn5s5dy96xq_r0000gn/T/ipykernel_6094/3431758320.py\u001b[0m in \u001b[0;36m<module>\u001b[0;34m\u001b[0m\n\u001b[1;32m      1\u001b[0m \u001b[0mprint\u001b[0m\u001b[0;34m(\u001b[0m\u001b[0mdatetime\u001b[0m\u001b[0;34m.\u001b[0m\u001b[0mnow\u001b[0m\u001b[0;34m(\u001b[0m\u001b[0;34m)\u001b[0m\u001b[0;34m,\u001b[0m \u001b[0;34m\"START\"\u001b[0m\u001b[0;34m)\u001b[0m\u001b[0;34m\u001b[0m\u001b[0;34m\u001b[0m\u001b[0m\n\u001b[0;32m----> 2\u001b[0;31m \u001b[0msims\u001b[0m \u001b[0;34m=\u001b[0m \u001b[0mrun_simulations\u001b[0m\u001b[0;34m(\u001b[0m\u001b[0mg\u001b[0m\u001b[0;34m,\u001b[0m \u001b[0mmodel_parameters\u001b[0m\u001b[0;34m,\u001b[0m \u001b[0mnum_sims\u001b[0m\u001b[0;34m=\u001b[0m\u001b[0;36m500\u001b[0m\u001b[0;34m)\u001b[0m\u001b[0;34m\u001b[0m\u001b[0;34m\u001b[0m\u001b[0m\n\u001b[0m\u001b[1;32m      3\u001b[0m \u001b[0mprint\u001b[0m\u001b[0;34m(\u001b[0m\u001b[0mdatetime\u001b[0m\u001b[0;34m.\u001b[0m\u001b[0mnow\u001b[0m\u001b[0;34m(\u001b[0m\u001b[0;34m)\u001b[0m\u001b[0;34m,\u001b[0m \u001b[0;34m\"DONE\"\u001b[0m\u001b[0;34m)\u001b[0m\u001b[0;34m\u001b[0m\u001b[0;34m\u001b[0m\u001b[0m\n\u001b[1;32m      4\u001b[0m \u001b[0;34m\u001b[0m\u001b[0m\n\u001b[1;32m      5\u001b[0m \u001b[0;31m# Pickle sim data to a file\u001b[0m\u001b[0;34m\u001b[0m\u001b[0;34m\u001b[0m\u001b[0m\n",
      "\u001b[0;31mNameError\u001b[0m: name 'g' is not defined"
     ]
    }
   ],
   "source": [
    "print(datetime.now(), \"START\")\n",
    "sims = run_simulations(g, model_parameters, num_sims=500)\n",
    "print(datetime.now(), \"DONE\")\n",
    "\n",
    "# Pickle sim data to a file\n",
    "with open(\"sim_output/sims_test.dat\", \"wb\") as f:\n",
    "    pickle.dump(sims, f)"
   ]
  },
  {
   "cell_type": "code",
   "execution_count": 9,
   "metadata": {},
   "outputs": [
    {
     "name": "stdout",
     "output_type": "stream",
     "text": [
      "2022-04-23 18:51:43.954141 START\n"
     ]
    },
    {
     "ename": "NameError",
     "evalue": "name 'g' is not defined",
     "output_type": "error",
     "traceback": [
      "\u001b[0;31m---------------------------------------------------------------------------\u001b[0m",
      "\u001b[0;31mNameError\u001b[0m                                 Traceback (most recent call last)",
      "\u001b[0;32m/var/folders/b6/89bshl6x2hlcn5s5dy96xq_r0000gn/T/ipykernel_6094/2678468422.py\u001b[0m in \u001b[0;36m<module>\u001b[0;34m\u001b[0m\n\u001b[1;32m      1\u001b[0m \u001b[0mprint\u001b[0m\u001b[0;34m(\u001b[0m\u001b[0mdatetime\u001b[0m\u001b[0;34m.\u001b[0m\u001b[0mnow\u001b[0m\u001b[0;34m(\u001b[0m\u001b[0;34m)\u001b[0m\u001b[0;34m,\u001b[0m \u001b[0;34m\"START\"\u001b[0m\u001b[0;34m)\u001b[0m\u001b[0;34m\u001b[0m\u001b[0;34m\u001b[0m\u001b[0m\n\u001b[0;32m----> 2\u001b[0;31m \u001b[0msims\u001b[0m \u001b[0;34m=\u001b[0m \u001b[0mrun_simulations\u001b[0m\u001b[0;34m(\u001b[0m\u001b[0mg\u001b[0m\u001b[0;34m,\u001b[0m \u001b[0mmodel_parameters\u001b[0m\u001b[0;34m,\u001b[0m \u001b[0mnum_sims\u001b[0m\u001b[0;34m=\u001b[0m\u001b[0;36m2\u001b[0m\u001b[0;34m,\u001b[0m \u001b[0mdraw\u001b[0m\u001b[0;34m=\u001b[0m\u001b[0;32mTrue\u001b[0m\u001b[0;34m)\u001b[0m\u001b[0;34m\u001b[0m\u001b[0;34m\u001b[0m\u001b[0m\n\u001b[0m\u001b[1;32m      3\u001b[0m \u001b[0mprint\u001b[0m\u001b[0;34m(\u001b[0m\u001b[0mdatetime\u001b[0m\u001b[0;34m.\u001b[0m\u001b[0mnow\u001b[0m\u001b[0;34m(\u001b[0m\u001b[0;34m)\u001b[0m\u001b[0;34m,\u001b[0m \u001b[0;34m\"DONE\"\u001b[0m\u001b[0;34m)\u001b[0m\u001b[0;34m\u001b[0m\u001b[0;34m\u001b[0m\u001b[0m\n",
      "\u001b[0;31mNameError\u001b[0m: name 'g' is not defined"
     ]
    }
   ],
   "source": [
    "print(datetime.now(), \"START\")\n",
    "sims = run_simulations(g, model_parameters, num_sims=2, draw=True)\n",
    "print(datetime.now(), \"DONE\")"
   ]
  },
  {
   "cell_type": "markdown",
   "metadata": {},
   "source": [
    "## Analysis"
   ]
  },
  {
   "cell_type": "code",
   "execution_count": 10,
   "metadata": {},
   "outputs": [
    {
     "ename": "FileNotFoundError",
     "evalue": "[Errno 2] No such file or directory: 'sim_output/sims_test.dat'",
     "output_type": "error",
     "traceback": [
      "\u001b[0;31m---------------------------------------------------------------------------\u001b[0m",
      "\u001b[0;31mFileNotFoundError\u001b[0m                         Traceback (most recent call last)",
      "\u001b[0;32m/var/folders/b6/89bshl6x2hlcn5s5dy96xq_r0000gn/T/ipykernel_6094/2717782981.py\u001b[0m in \u001b[0;36m<module>\u001b[0;34m\u001b[0m\n\u001b[1;32m      1\u001b[0m \u001b[0;31m# Load simulation results file\u001b[0m\u001b[0;34m\u001b[0m\u001b[0;34m\u001b[0m\u001b[0m\n\u001b[0;32m----> 2\u001b[0;31m \u001b[0;32mwith\u001b[0m \u001b[0mopen\u001b[0m\u001b[0;34m(\u001b[0m\u001b[0;34m\"sim_output/sims_test.dat\"\u001b[0m\u001b[0;34m,\u001b[0m \u001b[0;34m\"rb\"\u001b[0m\u001b[0;34m)\u001b[0m \u001b[0;32mas\u001b[0m \u001b[0mf\u001b[0m\u001b[0;34m:\u001b[0m\u001b[0;34m\u001b[0m\u001b[0;34m\u001b[0m\u001b[0m\n\u001b[0m\u001b[1;32m      3\u001b[0m     \u001b[0msims\u001b[0m \u001b[0;34m=\u001b[0m \u001b[0mpickle\u001b[0m\u001b[0;34m.\u001b[0m\u001b[0mload\u001b[0m\u001b[0;34m(\u001b[0m\u001b[0mf\u001b[0m\u001b[0;34m)\u001b[0m\u001b[0;34m\u001b[0m\u001b[0;34m\u001b[0m\u001b[0m\n\u001b[1;32m      4\u001b[0m \u001b[0;34m\u001b[0m\u001b[0m\n\u001b[1;32m      5\u001b[0m \u001b[0mprint\u001b[0m\u001b[0;34m(\u001b[0m\u001b[0mlen\u001b[0m\u001b[0;34m(\u001b[0m\u001b[0msims\u001b[0m\u001b[0;34m)\u001b[0m\u001b[0;34m,\u001b[0m \u001b[0;34m\"simulations loaded\"\u001b[0m\u001b[0;34m)\u001b[0m\u001b[0;34m\u001b[0m\u001b[0;34m\u001b[0m\u001b[0m\n",
      "\u001b[0;31mFileNotFoundError\u001b[0m: [Errno 2] No such file or directory: 'sim_output/sims_test.dat'"
     ]
    }
   ],
   "source": [
    "# Load simulation results file\n",
    "with open(\"sim_output/sims_test.dat\", \"rb\") as f:\n",
    "    sims = pickle.load(f)\n",
    "\n",
    "print(len(sims), \"simulations loaded\")\n",
    "\n",
    "max_time_step = max(sim.time_step for sim in sims)\n",
    "print(\"max time steps\", max_time_step)"
   ]
  },
  {
   "cell_type": "code",
   "execution_count": 11,
   "metadata": {},
   "outputs": [
    {
     "ename": "NameError",
     "evalue": "name 'sims' is not defined",
     "output_type": "error",
     "traceback": [
      "\u001b[0;31m---------------------------------------------------------------------------\u001b[0m",
      "\u001b[0;31mNameError\u001b[0m                                 Traceback (most recent call last)",
      "\u001b[0;32m/var/folders/b6/89bshl6x2hlcn5s5dy96xq_r0000gn/T/ipykernel_6094/3319108711.py\u001b[0m in \u001b[0;36m<module>\u001b[0;34m\u001b[0m\n\u001b[1;32m      1\u001b[0m \u001b[0mplt\u001b[0m\u001b[0;34m.\u001b[0m\u001b[0mfigure\u001b[0m\u001b[0;34m(\u001b[0m\u001b[0mfigsize\u001b[0m\u001b[0;34m=\u001b[0m\u001b[0;34m(\u001b[0m\u001b[0;36m15\u001b[0m\u001b[0;34m,\u001b[0m \u001b[0;36m12\u001b[0m\u001b[0;34m)\u001b[0m\u001b[0;34m)\u001b[0m\u001b[0;34m\u001b[0m\u001b[0;34m\u001b[0m\u001b[0m\n\u001b[1;32m      2\u001b[0m \u001b[0;34m\u001b[0m\u001b[0m\n\u001b[0;32m----> 3\u001b[0;31m \u001b[0;32mfor\u001b[0m \u001b[0msim\u001b[0m \u001b[0;32min\u001b[0m \u001b[0msims\u001b[0m\u001b[0;34m:\u001b[0m\u001b[0;34m\u001b[0m\u001b[0;34m\u001b[0m\u001b[0m\n\u001b[0m\u001b[1;32m      4\u001b[0m     \u001b[0mplt\u001b[0m\u001b[0;34m.\u001b[0m\u001b[0mplot\u001b[0m\u001b[0;34m(\u001b[0m\u001b[0msim\u001b[0m\u001b[0;34m.\u001b[0m\u001b[0mrumor_size\u001b[0m\u001b[0;34m,\u001b[0m \u001b[0malpha\u001b[0m\u001b[0;34m=\u001b[0m\u001b[0;36m0.1\u001b[0m\u001b[0;34m,\u001b[0m \u001b[0mcolor\u001b[0m\u001b[0;34m=\u001b[0m\u001b[0;34m'b'\u001b[0m\u001b[0;34m)\u001b[0m\u001b[0;34m\u001b[0m\u001b[0;34m\u001b[0m\u001b[0m\n\u001b[1;32m      5\u001b[0m \u001b[0;34m\u001b[0m\u001b[0m\n",
      "\u001b[0;31mNameError\u001b[0m: name 'sims' is not defined"
     ]
    },
    {
     "data": {
      "text/plain": [
       "<Figure size 1080x864 with 0 Axes>"
      ]
     },
     "metadata": {},
     "output_type": "display_data"
    }
   ],
   "source": [
    "plt.figure(figsize=(15, 12))\n",
    "\n",
    "for sim in sims:\n",
    "    plt.plot(sim.rumor_size, alpha=0.1, color='b')\n",
    "\n",
    "plt.ylim(0,1)\n",
    "plt.xticks(range(max_time_step + 2))\n",
    "plt.title(f'Rumor size over time, {len(sims)} simulations')\n",
    "plt.xlabel('timestep ($t$)')\n",
    "plt.ylabel('total rumor size')\n",
    "plt.savefig('sim_output/rumor_size_over_time.png')\n",
    "plt.show()"
   ]
  },
  {
   "cell_type": "code",
   "execution_count": 12,
   "metadata": {},
   "outputs": [
    {
     "ename": "NameError",
     "evalue": "name 'sims' is not defined",
     "output_type": "error",
     "traceback": [
      "\u001b[0;31m---------------------------------------------------------------------------\u001b[0m",
      "\u001b[0;31mNameError\u001b[0m                                 Traceback (most recent call last)",
      "\u001b[0;32m/var/folders/b6/89bshl6x2hlcn5s5dy96xq_r0000gn/T/ipykernel_6094/3286418382.py\u001b[0m in \u001b[0;36m<module>\u001b[0;34m\u001b[0m\n\u001b[1;32m      1\u001b[0m \u001b[0mplt\u001b[0m\u001b[0;34m.\u001b[0m\u001b[0mfigure\u001b[0m\u001b[0;34m(\u001b[0m\u001b[0mfigsize\u001b[0m\u001b[0;34m=\u001b[0m\u001b[0;34m(\u001b[0m\u001b[0;36m15\u001b[0m\u001b[0;34m,\u001b[0m \u001b[0;36m12\u001b[0m\u001b[0;34m)\u001b[0m\u001b[0;34m)\u001b[0m\u001b[0;34m\u001b[0m\u001b[0;34m\u001b[0m\u001b[0m\n\u001b[1;32m      2\u001b[0m \u001b[0;34m\u001b[0m\u001b[0m\n\u001b[0;32m----> 3\u001b[0;31m \u001b[0mlarge_sims\u001b[0m \u001b[0;34m=\u001b[0m \u001b[0;34m[\u001b[0m\u001b[0msim\u001b[0m \u001b[0;32mfor\u001b[0m \u001b[0msim\u001b[0m \u001b[0;32min\u001b[0m \u001b[0msims\u001b[0m \u001b[0;32mif\u001b[0m \u001b[0mmax\u001b[0m\u001b[0;34m(\u001b[0m\u001b[0msim\u001b[0m\u001b[0;34m.\u001b[0m\u001b[0mrumor_size\u001b[0m\u001b[0;34m)\u001b[0m \u001b[0;34m>\u001b[0m \u001b[0;36m0.4\u001b[0m\u001b[0;34m]\u001b[0m\u001b[0;34m\u001b[0m\u001b[0;34m\u001b[0m\u001b[0m\n\u001b[0m\u001b[1;32m      4\u001b[0m \u001b[0;32mfor\u001b[0m \u001b[0msim\u001b[0m \u001b[0;32min\u001b[0m \u001b[0mlarge_sims\u001b[0m\u001b[0;34m:\u001b[0m\u001b[0;34m\u001b[0m\u001b[0;34m\u001b[0m\u001b[0m\n\u001b[1;32m      5\u001b[0m     \u001b[0mplt\u001b[0m\u001b[0;34m.\u001b[0m\u001b[0mplot\u001b[0m\u001b[0;34m(\u001b[0m\u001b[0msim\u001b[0m\u001b[0;34m.\u001b[0m\u001b[0mrumor_size\u001b[0m\u001b[0;34m,\u001b[0m\u001b[0malpha\u001b[0m\u001b[0;34m=\u001b[0m\u001b[0;36m0.1\u001b[0m\u001b[0;34m,\u001b[0m\u001b[0mcolor\u001b[0m\u001b[0;34m=\u001b[0m\u001b[0;34m'b'\u001b[0m\u001b[0;34m)\u001b[0m\u001b[0;34m\u001b[0m\u001b[0;34m\u001b[0m\u001b[0m\n",
      "\u001b[0;31mNameError\u001b[0m: name 'sims' is not defined"
     ]
    },
    {
     "data": {
      "text/plain": [
       "<Figure size 1080x864 with 0 Axes>"
      ]
     },
     "metadata": {},
     "output_type": "display_data"
    }
   ],
   "source": [
    "plt.figure(figsize=(15, 12))\n",
    "\n",
    "large_sims = [sim for sim in sims if max(sim.rumor_size) > 0.4]\n",
    "for sim in large_sims:\n",
    "    plt.plot(sim.rumor_size,alpha=0.1,color='b')\n",
    "\n",
    "plt.ylim(0, 1)\n",
    "plt.xticks(range(max_time_step + 2))\n",
    "plt.title(f'Rumor size over time, all {len(large_sims)} (of {len(sims)}) simulations that reach 40%+ of the population')\n",
    "plt.xlabel('timestep ($t$)')\n",
    "plt.ylabel('total rumor size')\n",
    "plt.savefig('sim_output/rumor_size_over_time_large_sims_only.png')\n",
    "\n",
    "plt.show()"
   ]
  },
  {
   "cell_type": "code",
   "execution_count": 13,
   "metadata": {},
   "outputs": [
    {
     "ename": "NameError",
     "evalue": "name 'sims' is not defined",
     "output_type": "error",
     "traceback": [
      "\u001b[0;31m---------------------------------------------------------------------------\u001b[0m",
      "\u001b[0;31mNameError\u001b[0m                                 Traceback (most recent call last)",
      "\u001b[0;32m/var/folders/b6/89bshl6x2hlcn5s5dy96xq_r0000gn/T/ipykernel_6094/1110282326.py\u001b[0m in \u001b[0;36m<module>\u001b[0;34m\u001b[0m\n\u001b[1;32m      1\u001b[0m \u001b[0mplt\u001b[0m\u001b[0;34m.\u001b[0m\u001b[0mfigure\u001b[0m\u001b[0;34m(\u001b[0m\u001b[0mfigsize\u001b[0m\u001b[0;34m=\u001b[0m\u001b[0;34m(\u001b[0m\u001b[0;36m15\u001b[0m\u001b[0;34m,\u001b[0m \u001b[0;36m12\u001b[0m\u001b[0;34m)\u001b[0m\u001b[0;34m)\u001b[0m\u001b[0;34m\u001b[0m\u001b[0;34m\u001b[0m\u001b[0m\n\u001b[1;32m      2\u001b[0m \u001b[0;34m\u001b[0m\u001b[0m\n\u001b[0;32m----> 3\u001b[0;31m \u001b[0mplt\u001b[0m\u001b[0;34m.\u001b[0m\u001b[0mhist\u001b[0m\u001b[0;34m(\u001b[0m\u001b[0;34m[\u001b[0m\u001b[0msum\u001b[0m\u001b[0;34m(\u001b[0m\u001b[0msim\u001b[0m\u001b[0;34m.\u001b[0m\u001b[0mrumor_size\u001b[0m\u001b[0;34m)\u001b[0m \u001b[0;34m/\u001b[0m \u001b[0mlen\u001b[0m\u001b[0;34m(\u001b[0m\u001b[0msim\u001b[0m\u001b[0;34m.\u001b[0m\u001b[0mrumor_size\u001b[0m\u001b[0;34m)\u001b[0m \u001b[0;32mfor\u001b[0m \u001b[0msim\u001b[0m \u001b[0;32min\u001b[0m \u001b[0msims\u001b[0m\u001b[0;34m]\u001b[0m\u001b[0;34m,\u001b[0m \u001b[0mbins\u001b[0m\u001b[0;34m=\u001b[0m\u001b[0;36m30\u001b[0m\u001b[0;34m)\u001b[0m\u001b[0;34m\u001b[0m\u001b[0;34m\u001b[0m\u001b[0m\n\u001b[0m\u001b[1;32m      4\u001b[0m \u001b[0;34m\u001b[0m\u001b[0m\n\u001b[1;32m      5\u001b[0m \u001b[0mplt\u001b[0m\u001b[0;34m.\u001b[0m\u001b[0mtitle\u001b[0m\u001b[0;34m(\u001b[0m\u001b[0;34m'Distribution of average rumour sizes'\u001b[0m\u001b[0;34m)\u001b[0m\u001b[0;34m\u001b[0m\u001b[0;34m\u001b[0m\u001b[0m\n",
      "\u001b[0;31mNameError\u001b[0m: name 'sims' is not defined"
     ]
    },
    {
     "data": {
      "text/plain": [
       "<Figure size 1080x864 with 0 Axes>"
      ]
     },
     "metadata": {},
     "output_type": "display_data"
    }
   ],
   "source": [
    "plt.figure(figsize=(15, 12))\n",
    "\n",
    "plt.hist([sum(sim.rumor_size) / len(sim.rumor_size) for sim in sims], bins=30)\n",
    "\n",
    "plt.title('Distribution of average rumour sizes')\n",
    "plt.xlabel('average rumour size')\n",
    "plt.ylabel('frequency')\n",
    "plt.savefig('sim_output/rumour_size_distribution.png')\n",
    "plt.show()"
   ]
  },
  {
   "cell_type": "code",
   "execution_count": 14,
   "metadata": {},
   "outputs": [
    {
     "ename": "NameError",
     "evalue": "name 'sims' is not defined",
     "output_type": "error",
     "traceback": [
      "\u001b[0;31m---------------------------------------------------------------------------\u001b[0m",
      "\u001b[0;31mNameError\u001b[0m                                 Traceback (most recent call last)",
      "\u001b[0;32m/var/folders/b6/89bshl6x2hlcn5s5dy96xq_r0000gn/T/ipykernel_6094/3435504781.py\u001b[0m in \u001b[0;36m<module>\u001b[0;34m\u001b[0m\n\u001b[1;32m      1\u001b[0m \u001b[0mplt\u001b[0m\u001b[0;34m.\u001b[0m\u001b[0mfigure\u001b[0m\u001b[0;34m(\u001b[0m\u001b[0mfigsize\u001b[0m\u001b[0;34m=\u001b[0m\u001b[0;34m(\u001b[0m\u001b[0;36m15\u001b[0m\u001b[0;34m,\u001b[0m \u001b[0;36m12\u001b[0m\u001b[0;34m)\u001b[0m\u001b[0;34m)\u001b[0m\u001b[0;34m\u001b[0m\u001b[0;34m\u001b[0m\u001b[0m\n\u001b[1;32m      2\u001b[0m \u001b[0;34m\u001b[0m\u001b[0m\n\u001b[0;32m----> 3\u001b[0;31m \u001b[0mplt\u001b[0m\u001b[0;34m.\u001b[0m\u001b[0mscatter\u001b[0m\u001b[0;34m(\u001b[0m\u001b[0;34m[\u001b[0m\u001b[0msim\u001b[0m\u001b[0;34m.\u001b[0m\u001b[0mfirst_spreader_degree\u001b[0m \u001b[0;32mfor\u001b[0m \u001b[0msim\u001b[0m \u001b[0;32min\u001b[0m \u001b[0msims\u001b[0m\u001b[0;34m]\u001b[0m\u001b[0;34m,\u001b[0m \u001b[0;34m[\u001b[0m\u001b[0msum\u001b[0m\u001b[0;34m(\u001b[0m\u001b[0;36m1\u001b[0m \u001b[0;32mfor\u001b[0m \u001b[0ms\u001b[0m \u001b[0;32min\u001b[0m \u001b[0msim\u001b[0m\u001b[0;34m.\u001b[0m\u001b[0mrumor_size\u001b[0m \u001b[0;32mif\u001b[0m \u001b[0ms\u001b[0m \u001b[0;34m>\u001b[0m \u001b[0;36m0.5\u001b[0m\u001b[0;34m)\u001b[0m \u001b[0;32mfor\u001b[0m \u001b[0msim\u001b[0m \u001b[0;32min\u001b[0m \u001b[0msims\u001b[0m\u001b[0;34m]\u001b[0m\u001b[0;34m,\u001b[0m \u001b[0malpha\u001b[0m\u001b[0;34m=\u001b[0m\u001b[0;36m0.3\u001b[0m\u001b[0;34m)\u001b[0m\u001b[0;34m\u001b[0m\u001b[0;34m\u001b[0m\u001b[0m\n\u001b[0m\u001b[1;32m      4\u001b[0m \u001b[0;34m\u001b[0m\u001b[0m\n\u001b[1;32m      5\u001b[0m \u001b[0mplt\u001b[0m\u001b[0;34m.\u001b[0m\u001b[0mtitle\u001b[0m\u001b[0;34m(\u001b[0m\u001b[0;34m'Degree of first spreader vs. number of days rumour size is 50%+'\u001b[0m\u001b[0;34m)\u001b[0m\u001b[0;34m\u001b[0m\u001b[0;34m\u001b[0m\u001b[0m\n",
      "\u001b[0;31mNameError\u001b[0m: name 'sims' is not defined"
     ]
    },
    {
     "data": {
      "text/plain": [
       "<Figure size 1080x864 with 0 Axes>"
      ]
     },
     "metadata": {},
     "output_type": "display_data"
    }
   ],
   "source": [
    "plt.figure(figsize=(15, 12))\n",
    "\n",
    "plt.scatter([sim.first_spreader_degree for sim in sims], [sum(1 for s in sim.rumor_size if s > 0.5) for sim in sims], alpha=0.3)\n",
    "\n",
    "plt.title('Degree of first spreader vs. number of days rumour size is 50%+')\n",
    "plt.xlabel('degree of first spreader')\n",
    "plt.ylabel('days rumour size is 50%+')\n",
    "plt.savefig('sim_output/first_spreader_degree_vs_large_rumour_days.png')\n",
    "plt.show()"
   ]
  },
  {
   "cell_type": "code",
   "execution_count": 15,
   "metadata": {},
   "outputs": [
    {
     "ename": "NameError",
     "evalue": "name 'sims' is not defined",
     "output_type": "error",
     "traceback": [
      "\u001b[0;31m---------------------------------------------------------------------------\u001b[0m",
      "\u001b[0;31mNameError\u001b[0m                                 Traceback (most recent call last)",
      "\u001b[0;32m/var/folders/b6/89bshl6x2hlcn5s5dy96xq_r0000gn/T/ipykernel_6094/3007114410.py\u001b[0m in \u001b[0;36m<module>\u001b[0;34m\u001b[0m\n\u001b[1;32m      1\u001b[0m \u001b[0mplt\u001b[0m\u001b[0;34m.\u001b[0m\u001b[0mfigure\u001b[0m\u001b[0;34m(\u001b[0m\u001b[0mfigsize\u001b[0m\u001b[0;34m=\u001b[0m\u001b[0;34m(\u001b[0m\u001b[0;36m15\u001b[0m\u001b[0;34m,\u001b[0m \u001b[0;36m12\u001b[0m\u001b[0;34m)\u001b[0m\u001b[0;34m)\u001b[0m\u001b[0;34m\u001b[0m\u001b[0;34m\u001b[0m\u001b[0m\n\u001b[1;32m      2\u001b[0m \u001b[0;34m\u001b[0m\u001b[0m\n\u001b[0;32m----> 3\u001b[0;31m \u001b[0mplt\u001b[0m\u001b[0;34m.\u001b[0m\u001b[0mscatter\u001b[0m\u001b[0;34m(\u001b[0m\u001b[0;34m[\u001b[0m\u001b[0msim\u001b[0m\u001b[0;34m.\u001b[0m\u001b[0mfirst_spreader_degree\u001b[0m \u001b[0;32mfor\u001b[0m \u001b[0msim\u001b[0m \u001b[0;32min\u001b[0m \u001b[0msims\u001b[0m\u001b[0;34m]\u001b[0m\u001b[0;34m,\u001b[0m \u001b[0;34m[\u001b[0m\u001b[0msum\u001b[0m\u001b[0;34m(\u001b[0m\u001b[0msim\u001b[0m\u001b[0;34m.\u001b[0m\u001b[0mrumor_size\u001b[0m\u001b[0;34m)\u001b[0m \u001b[0;34m/\u001b[0m \u001b[0mlen\u001b[0m\u001b[0;34m(\u001b[0m\u001b[0msim\u001b[0m\u001b[0;34m.\u001b[0m\u001b[0mrumor_size\u001b[0m\u001b[0;34m)\u001b[0m \u001b[0;32mfor\u001b[0m \u001b[0msim\u001b[0m \u001b[0;32min\u001b[0m \u001b[0msims\u001b[0m\u001b[0;34m]\u001b[0m\u001b[0;34m,\u001b[0m \u001b[0malpha\u001b[0m\u001b[0;34m=\u001b[0m\u001b[0;36m0.3\u001b[0m\u001b[0;34m)\u001b[0m\u001b[0;34m\u001b[0m\u001b[0;34m\u001b[0m\u001b[0m\n\u001b[0m\u001b[1;32m      4\u001b[0m \u001b[0;34m\u001b[0m\u001b[0m\n\u001b[1;32m      5\u001b[0m \u001b[0mplt\u001b[0m\u001b[0;34m.\u001b[0m\u001b[0mtitle\u001b[0m\u001b[0;34m(\u001b[0m\u001b[0;34m'Degree of first spreader vs. average rumour size'\u001b[0m\u001b[0;34m)\u001b[0m\u001b[0;34m\u001b[0m\u001b[0;34m\u001b[0m\u001b[0m\n",
      "\u001b[0;31mNameError\u001b[0m: name 'sims' is not defined"
     ]
    },
    {
     "data": {
      "text/plain": [
       "<Figure size 1080x864 with 0 Axes>"
      ]
     },
     "metadata": {},
     "output_type": "display_data"
    }
   ],
   "source": [
    "plt.figure(figsize=(15, 12))\n",
    "\n",
    "plt.scatter([sim.first_spreader_degree for sim in sims], [sum(sim.rumor_size) / len(sim.rumor_size) for sim in sims], alpha=0.3)\n",
    "\n",
    "plt.title('Degree of first spreader vs. average rumour size')\n",
    "plt.xlabel('degree of first spreader')\n",
    "plt.ylabel('average rumour size')\n",
    "plt.savefig('sim_output/first_spreader_degree_vs_rumour_size.png')\n",
    "plt.show()"
   ]
  },
  {
   "cell_type": "code",
   "execution_count": null,
   "metadata": {},
   "outputs": [],
   "source": []
  },
  {
   "cell_type": "code",
   "execution_count": null,
   "metadata": {},
   "outputs": [],
   "source": []
  }
 ],
 "metadata": {
  "kernelspec": {
   "display_name": "Python 3 (ipykernel)",
   "language": "python",
   "name": "python3"
  },
  "language_info": {
   "codemirror_mode": {
    "name": "ipython",
    "version": 3
   },
   "file_extension": ".py",
   "mimetype": "text/x-python",
   "name": "python",
   "nbconvert_exporter": "python",
   "pygments_lexer": "ipython3",
   "version": "3.9.7"
  }
 },
 "nbformat": 4,
 "nbformat_minor": 2
}
